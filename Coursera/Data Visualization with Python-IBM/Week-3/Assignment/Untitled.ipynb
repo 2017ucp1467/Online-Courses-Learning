{
 "cells": [
  {
   "cell_type": "code",
   "execution_count": 1,
   "metadata": {},
   "outputs": [],
   "source": [
    "import numpy as np\n",
    "import pandas as pd"
   ]
  },
  {
   "cell_type": "code",
   "execution_count": 34,
   "metadata": {},
   "outputs": [
    {
     "data": {
      "text/html": [
       "<div>\n",
       "<style scoped>\n",
       "    .dataframe tbody tr th:only-of-type {\n",
       "        vertical-align: middle;\n",
       "    }\n",
       "\n",
       "    .dataframe tbody tr th {\n",
       "        vertical-align: top;\n",
       "    }\n",
       "\n",
       "    .dataframe thead th {\n",
       "        text-align: right;\n",
       "    }\n",
       "</style>\n",
       "<table border=\"1\" class=\"dataframe\">\n",
       "  <thead>\n",
       "    <tr style=\"text-align: right;\">\n",
       "      <th></th>\n",
       "      <th>Data Visualization</th>\n",
       "      <th>Machine Learning</th>\n",
       "      <th>Data Analysis / Statistics</th>\n",
       "      <th>Big Data (Spark / Hadoop)</th>\n",
       "      <th>Data Journalism</th>\n",
       "      <th>Deep Learning</th>\n",
       "    </tr>\n",
       "  </thead>\n",
       "  <tbody>\n",
       "    <tr>\n",
       "      <th>0</th>\n",
       "      <td>Very interested</td>\n",
       "      <td>Very interested</td>\n",
       "      <td>Somewhat interested</td>\n",
       "      <td>Not interested</td>\n",
       "      <td>Somewhat interested</td>\n",
       "      <td>Somewhat interested</td>\n",
       "    </tr>\n",
       "    <tr>\n",
       "      <th>1</th>\n",
       "      <td>Very interested</td>\n",
       "      <td>Very interested</td>\n",
       "      <td>Very interested</td>\n",
       "      <td>Somewhat interested</td>\n",
       "      <td>Not interested</td>\n",
       "      <td>Very interested</td>\n",
       "    </tr>\n",
       "    <tr>\n",
       "      <th>2</th>\n",
       "      <td>Not interested</td>\n",
       "      <td>Very interested</td>\n",
       "      <td>Somewhat interested</td>\n",
       "      <td>Very interested</td>\n",
       "      <td>Not interested</td>\n",
       "      <td>Very interested</td>\n",
       "    </tr>\n",
       "    <tr>\n",
       "      <th>3</th>\n",
       "      <td>Very interested</td>\n",
       "      <td>Very interested</td>\n",
       "      <td>Very interested</td>\n",
       "      <td>Very interested</td>\n",
       "      <td>Somewhat interested</td>\n",
       "      <td>Very interested</td>\n",
       "    </tr>\n",
       "    <tr>\n",
       "      <th>4</th>\n",
       "      <td>Somewhat interested</td>\n",
       "      <td>Very interested</td>\n",
       "      <td>Very interested</td>\n",
       "      <td>Very interested</td>\n",
       "      <td>Not interested</td>\n",
       "      <td>Somewhat interested</td>\n",
       "    </tr>\n",
       "  </tbody>\n",
       "</table>\n",
       "</div>"
      ],
      "text/plain": [
       "    Data Visualization Machine Learning Data Analysis / Statistics  \\\n",
       "0      Very interested  Very interested        Somewhat interested   \n",
       "1      Very interested  Very interested            Very interested   \n",
       "2       Not interested  Very interested        Somewhat interested   \n",
       "3      Very interested  Very interested            Very interested   \n",
       "4  Somewhat interested  Very interested            Very interested   \n",
       "\n",
       "  Big Data (Spark / Hadoop)      Data Journalism        Deep Learning  \n",
       "0            Not interested  Somewhat interested  Somewhat interested  \n",
       "1       Somewhat interested       Not interested      Very interested  \n",
       "2           Very interested       Not interested      Very interested  \n",
       "3           Very interested  Somewhat interested      Very interested  \n",
       "4           Very interested       Not interested  Somewhat interested  "
      ]
     },
     "execution_count": 34,
     "metadata": {},
     "output_type": "execute_result"
    }
   ],
   "source": [
    "df_data = pd.read_csv('Data_Science_Topics_Survey.csv')\n",
    "df_data.drop(['Timestamp'], axis = 1, inplace = True)\n",
    "df_data.rename(columns={\"What's your level of interest for the following areas of Data Science? [Data Visualization]\":'Data Visualization', \"What's your level of interest for the following areas of Data Science? [Machine Learning]\":'Machine Learning', \"What's your level of interest for the following areas of Data Science? [Data Analysis / Statistics]\":'Data Analysis / Statistics', \"What's your level of interest for the following areas of Data Science? [Big Data (Spark / Hadoop)]\":'Big Data (Spark / Hadoop)', \"What's your level of interest for the following areas of Data Science? [Data Journalism]\":'Data Journalism', \"What's your level of interest for the following areas of Data Science? [Deep Learning]\":'Deep Learning'}, inplace = True)\n",
    "\n",
    "df_data.head()"
   ]
  },
  {
   "cell_type": "code",
   "execution_count": 22,
   "metadata": {},
   "outputs": [],
   "source": [
    "# loop returns all the column names\n",
    "\n",
    "columnvalue =[]\n",
    "\n",
    "for col in df_data:\n",
    "    columnvalue.append(col)"
   ]
  },
  {
   "cell_type": "code",
   "execution_count": 4,
   "metadata": {},
   "outputs": [
    {
     "data": {
      "text/plain": [
       "['Data Visualization',\n",
       " 'Machine Learning',\n",
       " 'Data Analysis / Statistics',\n",
       " 'Big Data (Spark / Hadoop)',\n",
       " 'Data Journalism',\n",
       " 'Deep Learning']"
      ]
     },
     "execution_count": 4,
     "metadata": {},
     "output_type": "execute_result"
    }
   ],
   "source": [
    "columnvalue"
   ]
  },
  {
   "cell_type": "code",
   "execution_count": 37,
   "metadata": {},
   "outputs": [],
   "source": [
    "dt_f = df_data.apply(pd.value_counts).transpose()"
   ]
  },
  {
   "cell_type": "code",
   "execution_count": 38,
   "metadata": {},
   "outputs": [
    {
     "data": {
      "text/html": [
       "<div>\n",
       "<style scoped>\n",
       "    .dataframe tbody tr th:only-of-type {\n",
       "        vertical-align: middle;\n",
       "    }\n",
       "\n",
       "    .dataframe tbody tr th {\n",
       "        vertical-align: top;\n",
       "    }\n",
       "\n",
       "    .dataframe thead th {\n",
       "        text-align: right;\n",
       "    }\n",
       "</style>\n",
       "<table border=\"1\" class=\"dataframe\">\n",
       "  <thead>\n",
       "    <tr style=\"text-align: right;\">\n",
       "      <th></th>\n",
       "      <th>Not interested</th>\n",
       "      <th>Somewhat interested</th>\n",
       "      <th>Very interested</th>\n",
       "    </tr>\n",
       "  </thead>\n",
       "  <tbody>\n",
       "    <tr>\n",
       "      <th>Data Visualization</th>\n",
       "      <td>102</td>\n",
       "      <td>734</td>\n",
       "      <td>1340</td>\n",
       "    </tr>\n",
       "    <tr>\n",
       "      <th>Machine Learning</th>\n",
       "      <td>74</td>\n",
       "      <td>477</td>\n",
       "      <td>1629</td>\n",
       "    </tr>\n",
       "    <tr>\n",
       "      <th>Data Analysis / Statistics</th>\n",
       "      <td>60</td>\n",
       "      <td>444</td>\n",
       "      <td>1688</td>\n",
       "    </tr>\n",
       "    <tr>\n",
       "      <th>Big Data (Spark / Hadoop)</th>\n",
       "      <td>127</td>\n",
       "      <td>729</td>\n",
       "      <td>1332</td>\n",
       "    </tr>\n",
       "    <tr>\n",
       "      <th>Data Journalism</th>\n",
       "      <td>610</td>\n",
       "      <td>1081</td>\n",
       "      <td>429</td>\n",
       "    </tr>\n",
       "    <tr>\n",
       "      <th>Deep Learning</th>\n",
       "      <td>136</td>\n",
       "      <td>770</td>\n",
       "      <td>1263</td>\n",
       "    </tr>\n",
       "  </tbody>\n",
       "</table>\n",
       "</div>"
      ],
      "text/plain": [
       "                            Not interested  Somewhat interested  \\\n",
       "Data Visualization                     102                  734   \n",
       "Machine Learning                        74                  477   \n",
       "Data Analysis / Statistics              60                  444   \n",
       "Big Data (Spark / Hadoop)              127                  729   \n",
       "Data Journalism                        610                 1081   \n",
       "Deep Learning                          136                  770   \n",
       "\n",
       "                            Very interested  \n",
       "Data Visualization                     1340  \n",
       "Machine Learning                       1629  \n",
       "Data Analysis / Statistics             1688  \n",
       "Big Data (Spark / Hadoop)              1332  \n",
       "Data Journalism                         429  \n",
       "Deep Learning                          1263  "
      ]
     },
     "execution_count": 38,
     "metadata": {},
     "output_type": "execute_result"
    }
   ],
   "source": [
    "dt_f"
   ]
  },
  {
   "cell_type": "code",
   "execution_count": 39,
   "metadata": {},
   "outputs": [
    {
     "data": {
      "text/html": [
       "<div>\n",
       "<style scoped>\n",
       "    .dataframe tbody tr th:only-of-type {\n",
       "        vertical-align: middle;\n",
       "    }\n",
       "\n",
       "    .dataframe tbody tr th {\n",
       "        vertical-align: top;\n",
       "    }\n",
       "\n",
       "    .dataframe thead th {\n",
       "        text-align: right;\n",
       "    }\n",
       "</style>\n",
       "<table border=\"1\" class=\"dataframe\">\n",
       "  <thead>\n",
       "    <tr style=\"text-align: right;\">\n",
       "      <th></th>\n",
       "      <th>Very interested</th>\n",
       "      <th>Somewhat interested</th>\n",
       "      <th>Not interested</th>\n",
       "    </tr>\n",
       "  </thead>\n",
       "  <tbody>\n",
       "    <tr>\n",
       "      <th>Data Visualization</th>\n",
       "      <td>1340</td>\n",
       "      <td>734</td>\n",
       "      <td>102</td>\n",
       "    </tr>\n",
       "    <tr>\n",
       "      <th>Machine Learning</th>\n",
       "      <td>1629</td>\n",
       "      <td>477</td>\n",
       "      <td>74</td>\n",
       "    </tr>\n",
       "    <tr>\n",
       "      <th>Data Analysis / Statistics</th>\n",
       "      <td>1688</td>\n",
       "      <td>444</td>\n",
       "      <td>60</td>\n",
       "    </tr>\n",
       "    <tr>\n",
       "      <th>Big Data (Spark / Hadoop)</th>\n",
       "      <td>1332</td>\n",
       "      <td>729</td>\n",
       "      <td>127</td>\n",
       "    </tr>\n",
       "    <tr>\n",
       "      <th>Data Journalism</th>\n",
       "      <td>429</td>\n",
       "      <td>1081</td>\n",
       "      <td>610</td>\n",
       "    </tr>\n",
       "    <tr>\n",
       "      <th>Deep Learning</th>\n",
       "      <td>1263</td>\n",
       "      <td>770</td>\n",
       "      <td>136</td>\n",
       "    </tr>\n",
       "  </tbody>\n",
       "</table>\n",
       "</div>"
      ],
      "text/plain": [
       "                            Very interested  Somewhat interested  \\\n",
       "Data Visualization                     1340                  734   \n",
       "Machine Learning                       1629                  477   \n",
       "Data Analysis / Statistics             1688                  444   \n",
       "Big Data (Spark / Hadoop)              1332                  729   \n",
       "Data Journalism                         429                 1081   \n",
       "Deep Learning                          1263                  770   \n",
       "\n",
       "                            Not interested  \n",
       "Data Visualization                     102  \n",
       "Machine Learning                        74  \n",
       "Data Analysis / Statistics              60  \n",
       "Big Data (Spark / Hadoop)              127  \n",
       "Data Journalism                        610  \n",
       "Deep Learning                          136  "
      ]
     },
     "execution_count": 39,
     "metadata": {},
     "output_type": "execute_result"
    }
   ],
   "source": [
    "dt_f.sort_index(axis = 1, level = 'Very interested', inplace = True, ascending = False)\n",
    "dt_f"
   ]
  },
  {
   "cell_type": "code",
   "execution_count": 43,
   "metadata": {},
   "outputs": [
    {
     "data": {
      "text/plain": [
       "pandas.core.frame.DataFrame"
      ]
     },
     "execution_count": 43,
     "metadata": {},
     "output_type": "execute_result"
    }
   ],
   "source": [
    "type(dt_f)"
   ]
  },
  {
   "cell_type": "code",
   "execution_count": 48,
   "metadata": {},
   "outputs": [
    {
     "data": {
      "text/html": [
       "<div>\n",
       "<style scoped>\n",
       "    .dataframe tbody tr th:only-of-type {\n",
       "        vertical-align: middle;\n",
       "    }\n",
       "\n",
       "    .dataframe tbody tr th {\n",
       "        vertical-align: top;\n",
       "    }\n",
       "\n",
       "    .dataframe thead th {\n",
       "        text-align: right;\n",
       "    }\n",
       "</style>\n",
       "<table border=\"1\" class=\"dataframe\">\n",
       "  <thead>\n",
       "    <tr style=\"text-align: right;\">\n",
       "      <th></th>\n",
       "      <th>Very interested</th>\n",
       "      <th>Somewhat interested</th>\n",
       "      <th>Not interested</th>\n",
       "    </tr>\n",
       "  </thead>\n",
       "  <tbody>\n",
       "    <tr>\n",
       "      <th>Data Analysis / Statistics</th>\n",
       "      <td>1688</td>\n",
       "      <td>444</td>\n",
       "      <td>60</td>\n",
       "    </tr>\n",
       "    <tr>\n",
       "      <th>Machine Learning</th>\n",
       "      <td>1629</td>\n",
       "      <td>477</td>\n",
       "      <td>74</td>\n",
       "    </tr>\n",
       "    <tr>\n",
       "      <th>Data Visualization</th>\n",
       "      <td>1340</td>\n",
       "      <td>734</td>\n",
       "      <td>102</td>\n",
       "    </tr>\n",
       "    <tr>\n",
       "      <th>Big Data (Spark / Hadoop)</th>\n",
       "      <td>1332</td>\n",
       "      <td>729</td>\n",
       "      <td>127</td>\n",
       "    </tr>\n",
       "    <tr>\n",
       "      <th>Deep Learning</th>\n",
       "      <td>1263</td>\n",
       "      <td>770</td>\n",
       "      <td>136</td>\n",
       "    </tr>\n",
       "    <tr>\n",
       "      <th>Data Journalism</th>\n",
       "      <td>429</td>\n",
       "      <td>1081</td>\n",
       "      <td>610</td>\n",
       "    </tr>\n",
       "  </tbody>\n",
       "</table>\n",
       "</div>"
      ],
      "text/plain": [
       "                            Very interested  Somewhat interested  \\\n",
       "Data Analysis / Statistics             1688                  444   \n",
       "Machine Learning                       1629                  477   \n",
       "Data Visualization                     1340                  734   \n",
       "Big Data (Spark / Hadoop)              1332                  729   \n",
       "Deep Learning                          1263                  770   \n",
       "Data Journalism                         429                 1081   \n",
       "\n",
       "                            Not interested  \n",
       "Data Analysis / Statistics              60  \n",
       "Machine Learning                        74  \n",
       "Data Visualization                     102  \n",
       "Big Data (Spark / Hadoop)              127  \n",
       "Deep Learning                          136  \n",
       "Data Journalism                        610  "
      ]
     },
     "execution_count": 48,
     "metadata": {},
     "output_type": "execute_result"
    }
   ],
   "source": [
    "dt_f.sort_values(['Very interested'], inplace = True, ascending = False)\n",
    "dt_f"
   ]
  },
  {
   "cell_type": "code",
   "execution_count": 50,
   "metadata": {},
   "outputs": [],
   "source": [
    "%matplotlib inline\n",
    "import matplotlib as mpl\n",
    "import matplotlib.pyplot as plt"
   ]
  },
  {
   "cell_type": "code",
   "execution_count": 57,
   "metadata": {},
   "outputs": [
    {
     "data": {
      "text/html": [
       "<div>\n",
       "<style scoped>\n",
       "    .dataframe tbody tr th:only-of-type {\n",
       "        vertical-align: middle;\n",
       "    }\n",
       "\n",
       "    .dataframe tbody tr th {\n",
       "        vertical-align: top;\n",
       "    }\n",
       "\n",
       "    .dataframe thead th {\n",
       "        text-align: right;\n",
       "    }\n",
       "</style>\n",
       "<table border=\"1\" class=\"dataframe\">\n",
       "  <thead>\n",
       "    <tr style=\"text-align: right;\">\n",
       "      <th></th>\n",
       "      <th>Data Analysis / Statistics</th>\n",
       "      <th>Machine Learning</th>\n",
       "      <th>Data Visualization</th>\n",
       "      <th>Big Data (Spark / Hadoop)</th>\n",
       "      <th>Deep Learning</th>\n",
       "      <th>Data Journalism</th>\n",
       "    </tr>\n",
       "  </thead>\n",
       "  <tbody>\n",
       "    <tr>\n",
       "      <th>Very interested</th>\n",
       "      <td>1688</td>\n",
       "      <td>1629</td>\n",
       "      <td>1340</td>\n",
       "      <td>1332</td>\n",
       "      <td>1263</td>\n",
       "      <td>429</td>\n",
       "    </tr>\n",
       "    <tr>\n",
       "      <th>Somewhat interested</th>\n",
       "      <td>444</td>\n",
       "      <td>477</td>\n",
       "      <td>734</td>\n",
       "      <td>729</td>\n",
       "      <td>770</td>\n",
       "      <td>1081</td>\n",
       "    </tr>\n",
       "    <tr>\n",
       "      <th>Not interested</th>\n",
       "      <td>60</td>\n",
       "      <td>74</td>\n",
       "      <td>102</td>\n",
       "      <td>127</td>\n",
       "      <td>136</td>\n",
       "      <td>610</td>\n",
       "    </tr>\n",
       "  </tbody>\n",
       "</table>\n",
       "</div>"
      ],
      "text/plain": [
       "                     Data Analysis / Statistics  Machine Learning  \\\n",
       "Very interested                            1688              1629   \n",
       "Somewhat interested                         444               477   \n",
       "Not interested                               60                74   \n",
       "\n",
       "                     Data Visualization  Big Data (Spark / Hadoop)  \\\n",
       "Very interested                    1340                       1332   \n",
       "Somewhat interested                 734                        729   \n",
       "Not interested                      102                        127   \n",
       "\n",
       "                     Deep Learning  Data Journalism  \n",
       "Very interested               1263              429  \n",
       "Somewhat interested            770             1081  \n",
       "Not interested                 136              610  "
      ]
     },
     "execution_count": 57,
     "metadata": {},
     "output_type": "execute_result"
    }
   ],
   "source": [
    "dt_f.transpose()"
   ]
  },
  {
   "cell_type": "code",
   "execution_count": 58,
   "metadata": {},
   "outputs": [
    {
     "data": {
      "text/html": [
       "<div>\n",
       "<style scoped>\n",
       "    .dataframe tbody tr th:only-of-type {\n",
       "        vertical-align: middle;\n",
       "    }\n",
       "\n",
       "    .dataframe tbody tr th {\n",
       "        vertical-align: top;\n",
       "    }\n",
       "\n",
       "    .dataframe thead th {\n",
       "        text-align: right;\n",
       "    }\n",
       "</style>\n",
       "<table border=\"1\" class=\"dataframe\">\n",
       "  <thead>\n",
       "    <tr style=\"text-align: right;\">\n",
       "      <th></th>\n",
       "      <th>Very interested</th>\n",
       "      <th>Somewhat interested</th>\n",
       "      <th>Not interested</th>\n",
       "    </tr>\n",
       "  </thead>\n",
       "  <tbody>\n",
       "    <tr>\n",
       "      <th>Data Analysis / Statistics</th>\n",
       "      <td>1688</td>\n",
       "      <td>444</td>\n",
       "      <td>60</td>\n",
       "    </tr>\n",
       "    <tr>\n",
       "      <th>Machine Learning</th>\n",
       "      <td>1629</td>\n",
       "      <td>477</td>\n",
       "      <td>74</td>\n",
       "    </tr>\n",
       "    <tr>\n",
       "      <th>Data Visualization</th>\n",
       "      <td>1340</td>\n",
       "      <td>734</td>\n",
       "      <td>102</td>\n",
       "    </tr>\n",
       "    <tr>\n",
       "      <th>Big Data (Spark / Hadoop)</th>\n",
       "      <td>1332</td>\n",
       "      <td>729</td>\n",
       "      <td>127</td>\n",
       "    </tr>\n",
       "    <tr>\n",
       "      <th>Deep Learning</th>\n",
       "      <td>1263</td>\n",
       "      <td>770</td>\n",
       "      <td>136</td>\n",
       "    </tr>\n",
       "  </tbody>\n",
       "</table>\n",
       "</div>"
      ],
      "text/plain": [
       "                            Very interested  Somewhat interested  \\\n",
       "Data Analysis / Statistics             1688                  444   \n",
       "Machine Learning                       1629                  477   \n",
       "Data Visualization                     1340                  734   \n",
       "Big Data (Spark / Hadoop)              1332                  729   \n",
       "Deep Learning                          1263                  770   \n",
       "\n",
       "                            Not interested  \n",
       "Data Analysis / Statistics              60  \n",
       "Machine Learning                        74  \n",
       "Data Visualization                     102  \n",
       "Big Data (Spark / Hadoop)              127  \n",
       "Deep Learning                          136  "
      ]
     },
     "execution_count": 58,
     "metadata": {},
     "output_type": "execute_result"
    }
   ],
   "source": [
    "dt_f.head()"
   ]
  },
  {
   "cell_type": "code",
   "execution_count": 84,
   "metadata": {},
   "outputs": [
    {
     "data": {
      "image/png": "[encoded data removed]",
      "text/plain": [
       "<matplotlib.figure.Figure at 0x1e0957dd860>"
      ]
     },
     "metadata": {},
     "output_type": "display_data"
    }
   ],
   "source": [
    "dt_f.plot(kind='bar', \n",
    "          figsize = (20, 8), \n",
    "          width = 0.8, \n",
    "          color = ('#5cb85c', '#5bc0de', '#d9534f'), \n",
    "          linewidth=0, \n",
    "          edgecolor = \"none\")\n",
    "tt = \"Percentage of Respondents' Interest in Data Science Areas\"\n",
    "plt.title(tt, fontdict ={'fontsize': 16})\n",
    "plt.legend(fontsize = 14)\n",
    "\n",
    "plt.show()"
   ]
  },
  {
   "cell_type": "code",
   "execution_count": null,
   "metadata": {},
   "outputs": [],
   "source": [
    "df_total = df['Total Cost']\n",
    "df = df.iloc[:, 0:4]\n",
    "df.plot(x = 'Airport', kind='barh',stacked = True, title = 'Breakdown of Costs', mark_right = True)\n",
    "\n",
    "df_rel = df[df.columns[1:]].div(df_total, 0)*100\n",
    "\n",
    "for n in df_rel:\n",
    "    for i, (cs, ab, pc, tot) in enumerate(zip(df.iloc[:, 1:].cumsum(1)[n], df[n], df_rel[n], df_total)):\n",
    "        plt.text(tot, i, str(tot), va='center')\n",
    "        plt.text(cs - ab/2, i, str(np.round(pc, 1)) + '%', va='center', ha='center')"
   ]
  }
 ],
 "metadata": {
  "kernelspec": {
   "display_name": "Python 3",
   "language": "python",
   "name": "python3"
  },
  "language_info": {
   "codemirror_mode": {
    "name": "ipython",
    "version": 3
   },
   "file_extension": ".py",
   "mimetype": "text/x-python",
   "name": "python",
   "nbconvert_exporter": "python",
   "pygments_lexer": "ipython3",
   "version": "3.6.4"
  }
 },
 "nbformat": 4,
 "nbformat_minor": 2
}
