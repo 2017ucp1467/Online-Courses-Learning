{
 "cells": [
  {
   "cell_type": "code",
   "execution_count": 1,
   "metadata": {},
   "outputs": [],
   "source": [
    "import folium"
   ]
  },
  {
   "cell_type": "code",
   "execution_count": null,
   "metadata": {},
   "outputs": [],
   "source": [
    "world_geo_name = 'san-francisco.geojson'\n",
    "\n",
    "world_map = folium.Map(location=[0, 0], zoom_start=12, tiles='Lab Assignment')\n",
    "\n",
    "world_map.choropleth(\n",
    "    geo_data = world_geo_name,\n",
    "    fill_color = 'YlOrRd', \n",
    "    fill_opacity = 0.7, \n",
    "    line_opacity = 0.2,\n",
    ")\n",
    "\n",
    "world_map"
   ]
  }
 ],
 "metadata": {
  "kernelspec": {
   "display_name": "Python 3",
   "language": "python",
   "name": "python3"
  },
  "language_info": {
   "codemirror_mode": {
    "name": "ipython",
    "version": 3
   },
   "file_extension": ".py",
   "mimetype": "text/x-python",
   "name": "python",
   "nbconvert_exporter": "python",
   "pygments_lexer": "ipython3",
   "version": "3.6.4"
  }
 },
 "nbformat": 4,
 "nbformat_minor": 2
}
