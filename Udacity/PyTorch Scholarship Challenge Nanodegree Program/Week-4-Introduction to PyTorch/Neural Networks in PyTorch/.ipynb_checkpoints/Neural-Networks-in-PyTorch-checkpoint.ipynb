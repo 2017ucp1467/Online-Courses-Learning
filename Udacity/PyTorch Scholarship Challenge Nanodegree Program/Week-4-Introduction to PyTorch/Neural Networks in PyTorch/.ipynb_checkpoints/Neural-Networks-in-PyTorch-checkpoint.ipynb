{
 "cells": [
  {
   "cell_type": "code",
   "execution_count": 1,
   "metadata": {},
   "outputs": [],
   "source": [
    "%matplotlib inline\n",
    "%config InlineBackend.figure_format = 'retina'\n",
    "\n",
    "import numpy as np\n",
    "import torch\n",
    "import helper\n",
    "\n",
    "import matplotlib.pyplot as plt"
   ]
  },
  {
   "cell_type": "code",
   "execution_count": 2,
   "metadata": {},
   "outputs": [
    {
     "name": "stdout",
     "output_type": "stream",
     "text": [
      "Downloading http://yann.lecun.com/exdb/mnist/train-images-idx3-ubyte.gz\n",
      "Downloading http://yann.lecun.com/exdb/mnist/train-labels-idx1-ubyte.gz\n",
      "Downloading http://yann.lecun.com/exdb/mnist/t10k-images-idx3-ubyte.gz\n",
      "Downloading http://yann.lecun.com/exdb/mnist/t10k-labels-idx1-ubyte.gz\n",
      "Processing...\n",
      "Done!\n"
     ]
    }
   ],
   "source": [
    "from torchvision import datasets, transforms\n",
    "\n",
    "# Define a transform to normalize the data\n",
    "transform = transforms.Compose([transforms.ToTensor(),\n",
    "                                transforms.Normalize((0.5, 0.5, 0.5), (0.5, 0.5, 0.5)),\n",
    "                                ])\n",
    "\n",
    "# Download and load the training data\n",
    "trainset = datasets.MNIST('MNIST_data/', download=True, train=True, transform=transform)\n",
    "trainloader = torch.utils.data.DataLoader(trainset, batch_size=64, shuffle=True)"
   ]
  },
  {
   "cell_type": "code",
   "execution_count": 3,
   "metadata": {},
   "outputs": [
    {
     "name": "stdout",
     "output_type": "stream",
     "text": [
      "<class 'torch.Tensor'>\n",
      "torch.Size([64, 1, 28, 28])\n",
      "torch.Size([64])\n"
     ]
    }
   ],
   "source": [
    "dataiter = iter(trainloader)\n",
    "images, labels = dataiter.next()\n",
    "print(type(images))\n",
    "print(images.shape)\n",
    "print(labels.shape)"
   ]
  },
  {
   "cell_type": "code",
   "execution_count": 6,
   "metadata": {},
   "outputs": [
    {
     "data": {
      "text/plain": [
       "<matplotlib.image.AxesImage at 0x23ea55dbf98>"
      ]
     },
     "execution_count": 6,
     "metadata": {},
     "output_type": "execute_result"
    },
    {
     "data": {
      "image/png": "[encoded data removed]",
      "text/plain": [
       "<matplotlib.figure.Figure at 0x23e9e793668>"
      ]
     },
     "metadata": {
      "image/png": {
       "height": 250,
       "width": 253
      }
     },
     "output_type": "display_data"
    }
   ],
   "source": [
    "plt.imshow(images[1].numpy().squeeze(), cmap='Greys_r')"
   ]
  },
  {
   "cell_type": "code",
   "execution_count": 9,
   "metadata": {},
   "outputs": [
    {
     "name": "stdout",
     "output_type": "stream",
     "text": [
      "tensor([[-12.5323, -14.7686,   4.7122,  -1.7665, -16.0951,   8.3343,   8.5355,\n",
      "          13.4721,  16.1705,  11.0815],\n",
      "        [ -6.3839,  -9.4197,   8.5357,   6.8250, -23.1141,  -0.0589,   2.2560,\n",
      "          10.6795,  10.6302,   7.2869],\n",
      "        [ -8.3647, -15.6801,   7.8615,   3.8130, -16.2530,  15.0175,   2.5806,\n",
      "          17.3729,  18.0013,   1.6031],\n",
      "        [ -9.8682,  -5.7869,   2.1931,   8.8568, -20.0194,  -4.2962,   7.0906,\n",
      "          16.6918,  13.0574,   8.4854],\n",
      "        [ -5.1864,  -9.5968,  -1.2084,  14.1136, -22.6075,   8.1791,   2.7828,\n",
      "          19.0422,  15.6693,   7.6555],\n",
      "        [ -3.1337, -15.1901,   9.2683,  11.4938, -14.0274,   1.5478,   7.2010,\n",
      "          17.9180,  15.8611,   5.4705],\n",
      "        [-10.0619,  -6.3893,   0.4663,  10.9309, -18.9787,   8.2126,   4.9994,\n",
      "          18.9705,   2.8315,   7.3802],\n",
      "        [ -9.0592, -12.6247,  -0.6679,   7.7049, -19.2751,   8.4605,  15.6362,\n",
      "          21.5555,  21.7250,   3.9000],\n",
      "        [ -1.9390,  -4.0466,   5.2250,   9.4767,  -9.3542,   9.4329,   2.0180,\n",
      "          18.0666,   8.9108,   8.8362],\n",
      "        [  0.1486, -10.0199,   4.4462,   5.3553,  -3.9416,   6.5792,  -4.6733,\n",
      "           9.7217,  12.7609,   4.5048],\n",
      "        [ -9.1631,  -8.3241,   3.8309,   7.6939, -22.1518,   1.1309,   0.8115,\n",
      "          19.3595,  18.3356,   0.9271],\n",
      "        [ -4.0418, -17.5133,  -1.1142,   6.1495, -27.0173,  -2.3275,   3.5636,\n",
      "          10.8942,  24.1912,   9.2318],\n",
      "        [ -4.6015, -14.0863,  14.0492,  12.3205,  -3.9397,   3.1741,   5.7357,\n",
      "          11.5432,  17.1033,   6.5847],\n",
      "        [-12.4260, -18.2972,   3.0391,  12.3809, -20.5685,   1.3510,  -2.2574,\n",
      "          25.2365,  17.3271,   4.2962],\n",
      "        [ -1.5469, -10.4792,   4.6640,  13.7007, -19.2887,  11.3828,  10.1176,\n",
      "          18.2858,  15.8004,   4.1965],\n",
      "        [ -6.3754, -17.9079,   1.6407,  12.2535, -13.7925,   1.6162,   6.5314,\n",
      "          14.0330,  30.4418,  15.9433],\n",
      "        [ -3.9181,  -9.0352,   7.9198,   6.5973, -18.7841,  21.5813,   6.9070,\n",
      "          22.3245,  23.8945,   4.9878],\n",
      "        [-11.2326,  -8.6155,  -0.6658,   5.8575, -19.3173,   3.2653,   7.5681,\n",
      "          21.3968,  17.2938,   3.7953],\n",
      "        [ -4.8503, -17.4175,  10.7333,   4.2561, -12.6003,  14.0205,   6.2549,\n",
      "          15.0977,  20.4965,   2.7227],\n",
      "        [ -3.8030, -15.4951,   6.1987,   2.4699, -19.9906,   9.4934,   6.5222,\n",
      "          18.2281,  22.4645,   2.3648],\n",
      "        [ -6.6738, -12.0470,   8.3661,   5.6003, -14.4067,   2.8879,  -4.1424,\n",
      "          25.2965,  26.0339,   9.2684],\n",
      "        [-11.7281, -13.7815,   5.9116,   6.5164, -14.3107,   2.9045,   1.5268,\n",
      "           9.9749,  19.2330,   1.6968],\n",
      "        [  7.9116,  -5.5366,   0.3484,  10.7726, -18.6168,   9.4089,   4.4193,\n",
      "          25.2882,  18.8818,   6.6217],\n",
      "        [ -2.3733,  -6.4630,   3.2468,   2.9033, -24.4557,   2.4871,   0.7022,\n",
      "           8.0953,  16.5658,  13.3379],\n",
      "        [ -4.6571, -11.1491,   1.2291,   1.4893, -10.0308,  11.7310,   8.1214,\n",
      "          18.7812,  26.1285,   4.6530],\n",
      "        [-12.2476, -14.8231,   5.3947,   9.5177, -23.4301,   6.0477,   5.4215,\n",
      "          13.0224,   7.2110,   7.0708],\n",
      "        [ -9.7064, -17.5620,   4.6814,   6.6335,  -9.8777,   8.0450,   9.2336,\n",
      "          22.9741,  21.8868,  -2.3083],\n",
      "        [  0.2604, -13.8539,   7.2214,   3.8670, -12.6329,   7.0908,  -1.4507,\n",
      "          15.9717,  21.2019,   3.7045],\n",
      "        [  2.5477, -18.0161,  -2.6727,  11.5579, -17.2980,   3.5482,  11.0182,\n",
      "          14.2107,  13.7884,  10.4487],\n",
      "        [  1.5733, -17.7109,   3.9874,  12.9077, -13.8435,   8.5590,   4.6603,\n",
      "          19.8771,  15.8384,   0.1087],\n",
      "        [ -2.8238,  -7.4591,   0.6072,   5.8786, -21.0292,   4.6207,   6.0773,\n",
      "          13.1969,  16.6409,   3.4519],\n",
      "        [ -8.7321,  -9.6814,   0.9699,   3.1879, -21.6407,  11.1450,  18.1180,\n",
      "          27.7216,  22.1385,  11.6342],\n",
      "        [ -7.0324,  -6.6733,   2.6580,  10.0280, -10.1151,  14.7006,   8.8538,\n",
      "          16.4129,  23.8428,   5.9004],\n",
      "        [ -3.9724,  -5.0642,  -1.5048,   2.7180, -18.6254,   2.0019,  10.1794,\n",
      "          17.8078,  16.1420,  10.4159],\n",
      "        [ -7.7256, -15.0471,   0.3328,   4.6465,  -5.2153,   5.7803,   0.3523,\n",
      "          15.1349,  15.9441,   2.7078],\n",
      "        [ -6.3020,  -7.6790,   5.8626,  -1.2700, -13.0151,  15.7168,   2.7699,\n",
      "          14.2213,  17.2959,  15.7295],\n",
      "        [ -7.8146, -17.7030,  -1.6438,  14.2236, -19.6769,   0.4904,   2.1354,\n",
      "          23.9137,  10.2052,   2.2363],\n",
      "        [ -2.1893,  -0.9280,   1.8222,   2.5260, -19.5086,   7.0193,  12.7984,\n",
      "          27.7413,  17.9975,   6.2423],\n",
      "        [ -7.2933, -14.5976,   8.0285,  10.7128, -15.1764,  17.2243,  10.4496,\n",
      "          22.7558,  14.5793,   2.4867],\n",
      "        [ -4.1007, -10.9839,  14.9658,   9.3587, -16.2276,  11.1945,   4.0752,\n",
      "          22.5339,  15.2628,   5.1065],\n",
      "        [ -0.6077, -19.0111,   1.6435,  11.6788, -12.8616,  -5.4910,  -3.0851,\n",
      "          16.7229,  16.3448,  -2.7489],\n",
      "        [ -9.9764,  -8.6832,   5.5624,  11.0081, -15.7346,  11.4491,  12.3152,\n",
      "          29.4442,  24.0079,  -2.6269],\n",
      "        [ -4.4418, -13.7922,   0.3323,  17.0215, -25.7507,  -1.8984,   7.0606,\n",
      "          25.4330,  31.3334,   9.9822],\n",
      "        [ -3.8004, -12.1751,  10.2133,   4.9585, -12.9047,   8.4003,   7.5995,\n",
      "          12.9277,  16.8977,   8.5599],\n",
      "        [ -7.8517,  -9.1152,   1.5301,  13.9067, -21.5411,   3.8381,   9.3370,\n",
      "          25.5953,  13.4136,   2.6696],\n",
      "        [ -6.7719, -17.5289,   1.6958,   5.7432, -15.9549,  10.4008,   4.7495,\n",
      "          10.4896,  18.6859,   5.7835],\n",
      "        [-14.5358, -18.4191,   5.7853,   6.2830, -21.5252,  -3.4556,  -5.8579,\n",
      "          11.9918,  15.7935,   2.2000],\n",
      "        [-10.8653,  -7.5897,   1.0600,   1.5952, -17.7290,   1.1085,   4.9424,\n",
      "           6.6416,   3.9456,   4.6463],\n",
      "        [-12.5650, -16.0981,   8.1742,  10.8204, -20.3973,  11.2662,   6.8358,\n",
      "          25.7679,  18.9126,   2.5309],\n",
      "        [-13.8693,  -8.0796,   4.4596,  13.2813, -20.3417,   5.9331,   9.6560,\n",
      "          23.3843,  12.9222,   9.7891],\n",
      "        [ -2.5479,  -5.8275,   8.6466,   4.0500, -17.7076,  11.3322,  12.1623,\n",
      "          19.6147,  19.0671,  16.9674],\n",
      "        [-17.6207,  -9.5075,   9.6513,   5.6830, -17.3201,  16.6216,   4.6868,\n",
      "          25.1316,  12.8842,   9.3137],\n",
      "        [ -9.9201,  -9.4679,  10.1559,   8.5107, -13.5474,  13.8458,   9.2748,\n",
      "          22.7735,  18.7544,   2.2230],\n",
      "        [ -7.9614,  -8.8563,   9.6193,   7.4402, -20.6209,  -1.5465,   8.8137,\n",
      "          12.8482,  17.3043,   0.2504],\n",
      "        [ -8.8984, -11.3068,   9.4896,  11.1701,  -7.6107,  -0.9228,   9.5918,\n",
      "          14.8035,  10.1973,  15.0982],\n",
      "        [-10.4249, -21.8401,   1.9895,  18.3842,  -9.8506,  10.2626,  13.9649,\n",
      "          19.7572,  17.4487,  12.2545],\n",
      "        [ -6.8649,  -2.0201,   5.6970,   1.0363, -11.2038,  18.6786,   4.1122,\n",
      "          13.0740,  25.5069,   6.4342],\n",
      "        [ -3.4257, -15.1618,   8.0267,   9.5360,  -7.5443,  14.0716,   3.5006,\n",
      "          22.4723,  20.4917,   3.3285],\n",
      "        [ -9.1118,  -5.5388,  10.4721,  -0.4490, -20.0308,  13.9006,  15.5785,\n",
      "           6.4692,  18.1487,   7.4506],\n",
      "        [ -5.5555, -14.0852,  11.1400,  12.3649, -29.2108,   1.7596,   0.7356,\n",
      "          18.2358,  16.0515,   4.7550],\n",
      "        [ -5.5484, -10.5350,   3.4344,   6.9057, -21.8078,   2.7959,  12.6351,\n",
      "          22.9200,  32.8661,   1.3979],\n",
      "        [  0.0065,  -4.3211,   8.6667,   3.3982, -14.6443,   0.9577,   4.3742,\n",
      "           4.9172,  21.1043,  -3.7349],\n",
      "        [ -7.8898, -12.7179,   1.3582,   3.2849, -16.1718,  14.4812,   1.9449,\n",
      "          23.9047,  24.0348,  -2.7423],\n",
      "        [ -4.1983, -10.7807,   4.3884,   6.1832,  -8.3752,  18.3188,   9.6185,\n",
      "          18.6586,  14.8230,   2.4316]])\n"
     ]
    }
   ],
   "source": [
    "def activation(x):\n",
    "    return 1/(1+torch.exp(-x))\n",
    "\n",
    "# Flatten the input images\n",
    "inputs = images.view(images.shape[0], -1)\n",
    "\n",
    "# Create Parameters\n",
    "w1 = torch.randn(784, 256)\n",
    "b1 = torch.randn(256)\n",
    "\n",
    "w2 = torch.randn(256, 10)\n",
    "b2 = torch.randn(10)\n",
    "\n",
    "h = activation(torch.mm(inputs, w1) + b1)\n",
    "\n",
    "out = torch.mm(h, w2) + b2\n",
    "print(out)"
   ]
  },
  {
   "cell_type": "code",
   "execution_count": 10,
   "metadata": {},
   "outputs": [
    {
     "name": "stdout",
     "output_type": "stream",
     "text": [
      "torch.Size([64, 10])\n",
      "tensor([1.0000, 1.0000, 1.0000, 1.0000, 1.0000, 1.0000, 1.0000, 1.0000, 1.0000,\n",
      "        1.0000, 1.0000, 1.0000, 1.0000, 1.0000, 1.0000, 1.0000, 1.0000, 1.0000,\n",
      "        1.0000, 1.0000, 1.0000, 1.0000, 1.0000, 1.0000, 1.0000, 1.0000, 1.0000,\n",
      "        1.0000, 1.0000, 1.0000, 1.0000, 1.0000, 1.0000, 1.0000, 1.0000, 1.0000,\n",
      "        1.0000, 1.0000, 1.0000, 1.0000, 1.0000, 1.0000, 1.0000, 1.0000, 1.0000,\n",
      "        1.0000, 1.0000, 1.0000, 1.0000, 1.0000, 1.0000, 1.0000, 1.0000, 1.0000,\n",
      "        1.0000, 1.0000, 1.0000, 1.0000, 1.0000, 1.0000, 1.0000, 1.0000, 1.0000,\n",
      "        1.0000])\n"
     ]
    }
   ],
   "source": [
    "def softmax(x):\n",
    "    return torch.exp(x)/torch.sum(torch.exp(x), dim=1).view(-1,1)\n",
    "\n",
    "probabilities = softmax(out)\n",
    "\n",
    "print(probabilities.shape)\n",
    "print(probabilities.sum(dim=1))"
   ]
  },
  {
   "cell_type": "code",
   "execution_count": 13,
   "metadata": {},
   "outputs": [],
   "source": [
    "from torch import nn\n",
    "class Network(nn.Module):\n",
    "    def __init__(self):\n",
    "        super().__init__()\n",
    "        \n",
    "        self.hidden = nn.Linear(784, 256)\n",
    "        self.output = nn.Linear(256, 10)\n",
    "        \n",
    "        self.sigmoid = nn.Sigmoid()\n",
    "        self.softmax = nn.Softmax(dim=1)\n",
    "        \n",
    "    def forward(self, x):\n",
    "        x = self.hidden(x)\n",
    "        x = self.sigmoid(x)\n",
    "        x = self.output(x)\n",
    "        x = self.softmax(x)\n",
    "        \n",
    "        return x\n"
   ]
  },
  {
   "cell_type": "code",
   "execution_count": 14,
   "metadata": {},
   "outputs": [
    {
     "data": {
      "text/plain": [
       "Network(\n",
       "  (hidden): Linear(in_features=784, out_features=256, bias=True)\n",
       "  (output): Linear(in_features=256, out_features=10, bias=True)\n",
       "  (sigmoid): Sigmoid()\n",
       "  (softmax): Softmax()\n",
       ")"
      ]
     },
     "execution_count": 14,
     "metadata": {},
     "output_type": "execute_result"
    }
   ],
   "source": [
    "# Create the network\n",
    "model = Network()\n",
    "model"
   ]
  },
  {
   "cell_type": "code",
   "execution_count": 16,
   "metadata": {},
   "outputs": [],
   "source": [
    "import torch.nn.functional as F\n",
    "\n",
    "class Network(nn.Module):\n",
    "    def __init__(self):\n",
    "        super().__init__()\n",
    "        \n",
    "        self.hidden = nn.Linear(784, 256)\n",
    "        self.output = nn.Linear(256, 10)\n",
    "        \n",
    "    def forward(self, x):\n",
    "        x = F.sigmoid(self.hidden(x))\n",
    "        x = F.softmax(self.output(x), dim=1)\n",
    "        \n",
    "        return x"
   ]
  },
  {
   "cell_type": "code",
   "execution_count": null,
   "metadata": {},
   "outputs": [],
   "source": []
  }
 ],
 "metadata": {
  "kernelspec": {
   "display_name": "Python 3",
   "language": "python",
   "name": "python3"
  },
  "language_info": {
   "codemirror_mode": {
    "name": "ipython",
    "version": 3
   },
   "file_extension": ".py",
   "mimetype": "text/x-python",
   "name": "python",
   "nbconvert_exporter": "python",
   "pygments_lexer": "ipython3",
   "version": "3.6.4"
  }
 },
 "nbformat": 4,
 "nbformat_minor": 2
}
